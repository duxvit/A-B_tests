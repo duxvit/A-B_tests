{
 "cells": [
  {
   "cell_type": "markdown",
   "id": "1e471011",
   "metadata": {},
   "source": [
    "## Analysis of the A/B test\n",
    "In this Notebook we will:\n",
    "1. analyze the power of the A/B test.\n",
    "2. Find out MDE, if we know sample size\n",
    "3. counting minimal sample size for the group with desirable MDE (Minimal Detectable Effect)"
   ]
  },
  {
   "cell_type": "code",
   "execution_count": 1,
   "id": "dc99654b-9b70-420a-aa5d-a1abc390f451",
   "metadata": {},
   "outputs": [],
   "source": [
    "# import libriaries \n",
    "import pandas as pd\n",
    "from statsmodels.stats.power import TTestIndPower\n",
    "from scipy import stats\n",
    "from CH import Getch       # this function we use to read queries from clickhouse\n",
    "import numpy as np\n",
    "from statsmodels.stats.power import TTestIndPower  # for test"
   ]
  },
  {
   "cell_type": "code",
   "execution_count": 2,
   "id": "3b39ad5e-4082-4d75-bb9b-c1d87cf02cbf",
   "metadata": {},
   "outputs": [],
   "source": [
    "# query from 29-12-2021 to 04-01-2022 to compare group 0 and 1\n",
    "data = Getch('''\n",
    "SELECT user_id,\n",
    "       exp_group,\n",
    "       countIf(action='like') as likes,\n",
    "       countIf(action='view') as views,\n",
    "       likes / views as CTR\n",
    "FROM simulator_20211220.feed_actions\n",
    "where toDate(time) >= toDate('2021-12-29') and toDate(time) <= toDate('2022-01-04') \n",
    "      and exp_group in (0, 1)\n",
    "group by user_id, exp_group\n",
    "''').df"
   ]
  },
  {
   "cell_type": "code",
   "execution_count": 3,
   "id": "62e0111d",
   "metadata": {},
   "outputs": [
    {
     "data": {
      "text/html": [
       "<div>\n",
       "<style scoped>\n",
       "    .dataframe tbody tr th:only-of-type {\n",
       "        vertical-align: middle;\n",
       "    }\n",
       "\n",
       "    .dataframe tbody tr th {\n",
       "        vertical-align: top;\n",
       "    }\n",
       "\n",
       "    .dataframe thead th {\n",
       "        text-align: right;\n",
       "    }\n",
       "</style>\n",
       "<table border=\"1\" class=\"dataframe\">\n",
       "  <thead>\n",
       "    <tr style=\"text-align: right;\">\n",
       "      <th></th>\n",
       "      <th>user_id</th>\n",
       "      <th>exp_group</th>\n",
       "      <th>likes</th>\n",
       "      <th>views</th>\n",
       "      <th>CTR</th>\n",
       "    </tr>\n",
       "  </thead>\n",
       "  <tbody>\n",
       "    <tr>\n",
       "      <th>0</th>\n",
       "      <td>26117</td>\n",
       "      <td>1</td>\n",
       "      <td>5</td>\n",
       "      <td>21</td>\n",
       "      <td>0.238095</td>\n",
       "    </tr>\n",
       "    <tr>\n",
       "      <th>1</th>\n",
       "      <td>138232</td>\n",
       "      <td>1</td>\n",
       "      <td>5</td>\n",
       "      <td>29</td>\n",
       "      <td>0.172414</td>\n",
       "    </tr>\n",
       "    <tr>\n",
       "      <th>2</th>\n",
       "      <td>49204</td>\n",
       "      <td>1</td>\n",
       "      <td>10</td>\n",
       "      <td>62</td>\n",
       "      <td>0.161290</td>\n",
       "    </tr>\n",
       "    <tr>\n",
       "      <th>3</th>\n",
       "      <td>49286</td>\n",
       "      <td>1</td>\n",
       "      <td>7</td>\n",
       "      <td>19</td>\n",
       "      <td>0.368421</td>\n",
       "    </tr>\n",
       "    <tr>\n",
       "      <th>4</th>\n",
       "      <td>145957</td>\n",
       "      <td>1</td>\n",
       "      <td>54</td>\n",
       "      <td>129</td>\n",
       "      <td>0.418605</td>\n",
       "    </tr>\n",
       "  </tbody>\n",
       "</table>\n",
       "</div>"
      ],
      "text/plain": [
       "   user_id  exp_group  likes  views       CTR\n",
       "0    26117          1      5     21  0.238095\n",
       "1   138232          1      5     29  0.172414\n",
       "2    49204          1     10     62  0.161290\n",
       "3    49286          1      7     19  0.368421\n",
       "4   145957          1     54    129  0.418605"
      ]
     },
     "execution_count": 3,
     "metadata": {},
     "output_type": "execute_result"
    }
   ],
   "source": [
    "data.head()"
   ]
  },
  {
   "cell_type": "code",
   "execution_count": 4,
   "id": "8df1b7a1-f776-4479-b1c0-fa2285e79a41",
   "metadata": {},
   "outputs": [],
   "source": [
    "exp_group_0 = data[data['exp_group'] == 0]  # data from experimental group 0\n",
    "exp_group_1 = data[data['exp_group'] == 1]  # data from experimental group 0"
   ]
  },
  {
   "cell_type": "code",
   "execution_count": 5,
   "id": "883a3ae6-7239-4836-ba2d-f2df57238724",
   "metadata": {},
   "outputs": [
    {
     "name": "stdout",
     "output_type": "stream",
     "text": [
      "CTR\n",
      "mean_group_0: 0.22195492956578272 mean_group_1: 0.23648646948093194\n",
      "std_group_0: 0.08787038294959033 std_group_1: 0.09014644584020073\n",
      "n_group_0: 12997 n_group_1: 13002\n"
     ]
    }
   ],
   "source": [
    "# extract mean, std, and number of samples of each group (0, 1)\n",
    "mean_ctr_0 = exp_group_0['CTR'].mean()\n",
    "mean_ctr_1 = exp_group_1['CTR'].mean()\n",
    "\n",
    "std_ctr_0 = exp_group_0['CTR'].std()\n",
    "std_ctr_1 = exp_group_1['CTR'].std()\n",
    "\n",
    "n_0 = len(exp_group_0['CTR'])\n",
    "n_1 = len(exp_group_1['CTR'])\n",
    "\n",
    "print('CTR')\n",
    "print('mean_group_0:', mean_ctr_0, 'mean_group_1:', mean_ctr_1)\n",
    "print('std_group_0:', std_ctr_0, 'std_group_1:', std_ctr_1)\n",
    "print('n_group_0:', n_0, 'n_group_1:', n_1)"
   ]
  },
  {
   "cell_type": "code",
   "execution_count": 6,
   "id": "bc0d0cfc-42a9-446c-b71d-42836f2921ad",
   "metadata": {},
   "outputs": [
    {
     "name": "stdout",
     "output_type": "stream",
     "text": [
      "Expected number of observations in each group :  175\n"
     ]
    }
   ],
   "source": [
    "effect = 0.3  # Cohen's D \n",
    "alpha = 0.05  \n",
    "power = 0.8\n",
    "# perform power analysis\n",
    "analysis = TTestIndPower()\n",
    "result = analysis.solve_power(effect, power=power, nobs1=None, ratio=1.0, alpha=alpha)\n",
    "print('Expected number of observations in each group : ', round(result))"
   ]
  },
  {
   "cell_type": "markdown",
   "id": "4036bb63-761c-41c4-a49f-a8c6b45330de",
   "metadata": {},
   "source": [
    "<b>Также рассчитайте, чему оказался равен размер эффекта в нашем проведенном АB-тесте, \n",
    "и сделайте вывод, могли бы использовать меньший размер выборки при сохранении мощности на уровне 0.8.</b>"
   ]
  },
  {
   "cell_type": "code",
   "execution_count": 8,
   "id": "95ec5d42-4617-49c2-92c9-99fe5ae95db1",
   "metadata": {},
   "outputs": [
    {
     "name": "stdout",
     "output_type": "stream",
     "text": [
      "Cohen's D (for unequal samples) = 0.1632465500731042\n",
      "Cohen's D (for equal samples)   = 0.16324695144083806\n"
     ]
    }
   ],
   "source": [
    "# We can do this calculation by two ways: \n",
    "# 1. for unequal sample size\n",
    "d = (mean_ctr_1 - mean_ctr_0) / np.sqrt(((n_0 - 1) * std_ctr_0**2 + (n_1 - 1) * std_ctr_1**2)/ (n_0 + n_1 -2))\n",
    "# 2. for equal sample size\n",
    "d_equal = (mean_ctr_1 - mean_ctr_0) / np.sqrt((std_ctr_0**2 + std_ctr_1**2)/2)\n",
    "# Result will be almost the same\n",
    "\n",
    "print(\"Cohen's D (for unequal samples) =\", d)\n",
    "print(\"Cohen's D (for equal samples)   =\", d_equal)"
   ]
  },
  {
   "cell_type": "code",
   "execution_count": 9,
   "id": "8c616bdf-e4ec-465a-838b-0d8741d02b65",
   "metadata": {},
   "outputs": [
    {
     "name": "stdout",
     "output_type": "stream",
     "text": [
      "Expected number of observations in each group :  590\n"
     ]
    }
   ],
   "source": [
    "effect = d\n",
    "alpha = 0.05\n",
    "power = 0.8\n",
    "# perform power analysis\n",
    "analysis = TTestIndPower()\n",
    "result = analysis.solve_power(effect, power=power, nobs1=None, ratio=1.0, alpha=alpha)\n",
    "print('Expected number of observations in each group : ', round(result))"
   ]
  },
  {
   "cell_type": "markdown",
   "id": "0575b872-46c0-4d40-bff5-e1fac5934e09",
   "metadata": {},
   "source": [
    "### Conclusion\n",
    "In our experiment in group 0 and 1 by CTR \\\n",
    "Cohen's d = 0.16 \n",
    "alpha = 0.05\n",
    "power = 0.8\n",
    "\n",
    "For this d the minimum number of samples should be <b>590</b>, which is larger than numbers of observation in case of d=0.3 (<b>175</b> samples)"
   ]
  }
 ],
 "metadata": {
  "kernelspec": {
   "display_name": "Python 3 (ipykernel)",
   "language": "python",
   "name": "python3"
  },
  "language_info": {
   "codemirror_mode": {
    "name": "ipython",
    "version": 3
   },
   "file_extension": ".py",
   "mimetype": "text/x-python",
   "name": "python",
   "nbconvert_exporter": "python",
   "pygments_lexer": "ipython3",
   "version": "3.8.5"
  }
 },
 "nbformat": 4,
 "nbformat_minor": 5
}
