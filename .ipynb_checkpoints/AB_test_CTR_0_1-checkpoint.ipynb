{
 "cells": [
  {
   "cell_type": "code",
   "execution_count": 2,
   "id": "f52be8fa-147b-4e86-83a4-b6238636bb4b",
   "metadata": {},
   "outputs": [],
   "source": [
    "# import libriaries \n",
    "import pandas as pd\n",
    "import matplotlib.pyplot as plt\n",
    "import seaborn as sns\n",
    "import telegram\n",
    "import pandahouse\n",
    "from datetime import date\n",
    "from statsmodels.stats.power import TTestIndPower\n",
    "from scipy import stats\n",
    "from CH import Getch       # this function we use to read queries from clickhouse\n",
    "from aa_tests import New   # this function we use to do AA tests before A/B tests\n",
    "import numpy as np\n",
    "import io\n",
    "import sys\n",
    "import os\n",
    "\n",
    "%matplotlib inline"
   ]
  },
  {
   "cell_type": "code",
   "execution_count": 5,
   "id": "7b60f57e-a9bc-47e3-9c99-6b9b07a42dde",
   "metadata": {},
   "outputs": [],
   "source": [
    "# query from 29-12-2021 to 04-01-2022 to compare group 0 and 1\n",
    "data = Getch('''\n",
    "SELECT user_id,\n",
    "       exp_group,\n",
    "       countIf(action='like') as likes,\n",
    "       countIf(action='view') as views,\n",
    "       likes / views as CTR\n",
    "FROM simulator_20211220.feed_actions\n",
    "where toDate(time) >= toDate('2021-12-29') and toDate(time) <= toDate('2022-01-04') \n",
    "      and exp_group in (0, 1)\n",
    "group by user_id, exp_group\n",
    "''').df"
   ]
  },
  {
   "cell_type": "code",
   "execution_count": 6,
   "id": "759aaf29-2489-412b-bedd-db1e4a098ee1",
   "metadata": {},
   "outputs": [],
   "source": [
    "exp_group_0 = data[data['exp_group'] == 0]  # data from experimental group 0\n",
    "exp_group_1 = data[data['exp_group'] == 1]  # data from experimental group 0"
   ]
  },
  {
   "cell_type": "code",
   "execution_count": 30,
   "id": "2e9cf3d3-d92d-4a3f-9f41-bbed71fd76a8",
   "metadata": {},
   "outputs": [
    {
     "name": "stdout",
     "output_type": "stream",
     "text": [
      "MEAN CTR group_0 :  0.22195492956578472\n",
      "MEAN CTR group_1 :  0.2364864694809337\n",
      "\n",
      "MEDIAN CTR group_0 :  0.2083333333333333\n",
      "MEDIAN CTR group_1 :  0.2241379310344827\n"
     ]
    }
   ],
   "source": [
    "# Lets check mean and median CTR in group 0 and 1\n",
    "print('MEAN CTR group_0 : ', exp_group_0.CTR.mean())\n",
    "print('MEAN CTR group_1 : ', exp_group_1.CTR.mean())\n",
    "\n",
    "print('\\nMEDIAN CTR group_0 : ', exp_group_0.CTR.median())\n",
    "print('MEDIAN CTR group_1 : ', exp_group_1.CTR.median())"
   ]
  },
  {
   "cell_type": "markdown",
   "id": "9703a559-449a-4db0-9231-af2d4fb5b8a6",
   "metadata": {},
   "source": [
    "We can see that <b>mean and median</b> of the <b>group 1</b> higher than in group 0. \\\n",
    "Let's accomplish the AA test for CTR. "
   ]
  },
  {
   "cell_type": "code",
   "execution_count": 11,
   "id": "17f14307-7953-41df-8f0f-26da2fbaae86",
   "metadata": {
    "tags": []
   },
   "outputs": [],
   "source": [
    "# Execute AA test for CTR. 500 samples from both groups with resampling \n",
    "p_values_ctr, result_ctr = New(data_1=exp_group_0.CTR, data_2=exp_group_1.CTR).implementation()\n",
    "# p_values - list of p-values after 10000 iteration\n",
    "# result - show us the information, how many times p-values in percentage(%) was <= 0.05\n",
    "# if result with p-values has more than 5% cases, we can believe, that two groups are different"
   ]
  },
  {
   "cell_type": "code",
   "execution_count": 15,
   "id": "dfcdd836-063d-4b09-a861-c8b5603cd775",
   "metadata": {},
   "outputs": [],
   "source": [
    "# REPEAT THE SAME STEP ABOVE to check if we have some difference in other features\n",
    "\n",
    "# Execute AA test for likes. 500 samples from both groups with resampling \n",
    "p_values_likes, result_likes = New(data_1=exp_group_0.likes, data_2=exp_group_1.likes).implementation()\n",
    "# Execute AA test for views. 500 samples from both groups with resampling \n",
    "p_values_views, result_views = New(data_1=exp_group_0.views, data_2=exp_group_1.views).implementation()"
   ]
  },
  {
   "cell_type": "code",
   "execution_count": 32,
   "id": "292a1654-5e19-4e67-9d8c-cbf0758a9bfb",
   "metadata": {},
   "outputs": [
    {
     "name": "stdout",
     "output_type": "stream",
     "text": [
      "\n",
      "CTR:\n",
      " p-values <= 0.05 in 73.66%\n",
      "Normal percentage(%) of p-values should be about ~5%\n",
      "\n",
      "LIKES:\n",
      " p-values <= 0.05 in 37.42%\n",
      "Normal percentage(%) of p-values should be about ~5%\n",
      "\n",
      "VIEWS:\n",
      " p-values <= 0.05 in 5.07%\n",
      "Normal percentage(%) of p-values should be about ~5%\n"
     ]
    }
   ],
   "source": [
    "print('\\nCTR:\\n', result_ctr)\n",
    "print('\\nLIKES:\\n', result_likes)\n",
    "print('\\nVIEWS:\\n', result_views)"
   ]
  },
  {
   "cell_type": "markdown",
   "id": "e3108dba-5544-48c4-a3a1-f849a3632c93",
   "metadata": {},
   "source": [
    "\\\n",
    "<b>As you can see, we have difference in CTR AND LIKES, but not in VIEWS</b>. \\\n",
    "As you  remember: \\\n",
    "<b>MEAN   CTR</b> \\\n",
    "group_1 = 0.236 and group_0 = 0.222 \\\n",
    "<b>MEDIAN CTR</b> \\\n",
    "group_1 = 0.224 and group_0 = 0.208 \\\n",
    "\\\n",
    "That is mean that algorithm in <b>group 1</b> was better \\\n",
    "I RECOMMEND USE ALGORITHM FROM exp_group 1 \\\n",
    "\\\n",
    "*but count expense of the prod before\n"
   ]
  },
  {
   "cell_type": "code",
   "execution_count": null,
   "id": "c445ec27-98b1-435e-9d56-1084244a4ef3",
   "metadata": {},
   "outputs": [],
   "source": []
  }
 ],
 "metadata": {
  "kernelspec": {
   "display_name": "Python 3 (ipykernel)",
   "language": "python",
   "name": "python3"
  },
  "language_info": {
   "codemirror_mode": {
    "name": "ipython",
    "version": 3
   },
   "file_extension": ".py",
   "mimetype": "text/x-python",
   "name": "python",
   "nbconvert_exporter": "python",
   "pygments_lexer": "ipython3",
   "version": "3.8.10"
  }
 },
 "nbformat": 4,
 "nbformat_minor": 5
}
