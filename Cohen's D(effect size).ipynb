{
 "cells": [
  {
   "cell_type": "code",
   "execution_count": 7,
   "id": "dc99654b-9b70-420a-aa5d-a1abc390f451",
   "metadata": {},
   "outputs": [],
   "source": [
    "# import libriaries \n",
    "import pandas as pd\n",
    "from statsmodels.stats.power import TTestIndPower\n",
    "from scipy import stats\n",
    "from CH import Getch       # this function we use to read queries from clickhouse\n",
    "import numpy as np\n",
    "from statsmodels.stats.power import TTestIndPower  # for test"
   ]
  },
  {
   "cell_type": "code",
   "execution_count": 3,
   "id": "3b39ad5e-4082-4d75-bb9b-c1d87cf02cbf",
   "metadata": {},
   "outputs": [],
   "source": [
    "# query from 29-12-2021 to 04-01-2022 to compare group 0 and 1\n",
    "data = Getch('''\n",
    "SELECT user_id,\n",
    "       exp_group,\n",
    "       countIf(action='like') as likes,\n",
    "       countIf(action='view') as views,\n",
    "       likes / views as CTR\n",
    "FROM simulator_20211220.feed_actions\n",
    "where toDate(time) >= toDate('2021-12-29') and toDate(time) <= toDate('2022-01-04') \n",
    "      and exp_group in (0, 1)\n",
    "group by user_id, exp_group\n",
    "''').df"
   ]
  },
  {
   "cell_type": "code",
   "execution_count": 4,
   "id": "8df1b7a1-f776-4479-b1c0-fa2285e79a41",
   "metadata": {},
   "outputs": [],
   "source": [
    "exp_group_0 = data[data['exp_group'] == 0]  # data from experimental group 0\n",
    "exp_group_1 = data[data['exp_group'] == 1]  # data from experimental group 0"
   ]
  },
  {
   "cell_type": "code",
   "execution_count": 5,
   "id": "883a3ae6-7239-4836-ba2d-f2df57238724",
   "metadata": {},
   "outputs": [
    {
     "name": "stdout",
     "output_type": "stream",
     "text": [
      "CTR\n",
      "mean_group_0: 0.22195492956578472 mean_group_1: 0.2364864694809337\n",
      "std_group_0: 0.08787038294959099 std_group_1: 0.09014644584020069\n",
      "n_group_0: 12997 n_group_1: 13002\n"
     ]
    }
   ],
   "source": [
    "# extract mean, std, and number of samples of each group (0, 1)\n",
    "mean_ctr_0 = exp_group_0['CTR'].mean()\n",
    "mean_ctr_1 = exp_group_1['CTR'].mean()\n",
    "\n",
    "std_ctr_0 = exp_group_0['CTR'].std()\n",
    "std_ctr_1 = exp_group_1['CTR'].std()\n",
    "\n",
    "n_0 = len(exp_group_0['CTR'])\n",
    "n_1 = len(exp_group_1['CTR'])\n",
    "\n",
    "print('CTR')\n",
    "print('mean_group_0:', mean_ctr_0, 'mean_group_1:', mean_ctr_1)\n",
    "print('std_group_0:', std_ctr_0, 'std_group_1:', std_ctr_1)\n",
    "print('n_group_0:', n_0, 'n_group_1:', n_1)"
   ]
  },
  {
   "cell_type": "code",
   "execution_count": 8,
   "id": "bc0d0cfc-42a9-446c-b71d-42836f2921ad",
   "metadata": {},
   "outputs": [
    {
     "name": "stdout",
     "output_type": "stream",
     "text": [
      "Expected number of observations in each group :  175\n"
     ]
    }
   ],
   "source": [
    "effect = 0.3  # Cohen's D \n",
    "alpha = 0.05  \n",
    "power = 0.8\n",
    "# perform power analysis\n",
    "analysis = TTestIndPower()\n",
    "result = analysis.solve_power(effect, power=power, nobs1=None, ratio=1.0, alpha=alpha)\n",
    "print('Expected number of observations in each group : ', round(result))"
   ]
  },
  {
   "cell_type": "markdown",
   "id": "4036bb63-761c-41c4-a49f-a8c6b45330de",
   "metadata": {},
   "source": [
    "<b>Также рассчитайте, чему оказался равен размер эффекта в нашем проведенном АB-тесте, \n",
    "и сделайте вывод, могли бы использовать меньший размер выборки при сохранении мощности на уровне 0.8.</b>"
   ]
  },
  {
   "cell_type": "code",
   "execution_count": 9,
   "id": "95ec5d42-4617-49c2-92c9-99fe5ae95db1",
   "metadata": {},
   "outputs": [],
   "source": [
    "# We can do this calculation by two ways: \n",
    "# 1. for unequal sample size\n",
    "d = (mean_ctr_1 - mean_ctr_0) / np.sqrt(((n_0 - 1) * std_ctr_0**2 + (n_1 - 1) * std_ctr_1**2)/ (n_0 + n_1 -2))\n",
    "d\n",
    "# 2. for equal sample size\n",
    "d_equal = np.sqrt((std_ctr_0**2 + std_ctr_1**2)/2)\n",
    "# Result will be almost the same"
   ]
  },
  {
   "cell_type": "code",
   "execution_count": 10,
   "id": "8c616bdf-e4ec-465a-838b-0d8741d02b65",
   "metadata": {},
   "outputs": [
    {
     "name": "stdout",
     "output_type": "stream",
     "text": [
      "Expected number of observations in each group :  590\n"
     ]
    }
   ],
   "source": [
    "effect = d\n",
    "alpha = 0.05\n",
    "power = 0.8\n",
    "# perform power analysis\n",
    "analysis = TTestIndPower()\n",
    "result = analysis.solve_power(effect, power=power, nobs1=None, ratio=1.0, alpha=alpha)\n",
    "print('Expected number of observations in each group : ', round(result))"
   ]
  },
  {
   "cell_type": "markdown",
   "id": "0575b872-46c0-4d40-bff5-e1fac5934e09",
   "metadata": {},
   "source": [
    "### Conclusion\n",
    "In our experiment in group 0 and 1 by CTR \n",
    "Cohen's d = 0.16 \n",
    "\n",
    "For this d the minimum number of samples should be <b>590</b>, which is larger than numbers of observation in case of d=0.3 (<b>175</b> samples)"
   ]
  },
  {
   "cell_type": "code",
   "execution_count": null,
   "id": "7649e568-e977-445e-b9b7-3a81d36e3aa3",
   "metadata": {},
   "outputs": [],
   "source": []
  }
 ],
 "metadata": {
  "kernelspec": {
   "display_name": "Python 3 (ipykernel)",
   "language": "python",
   "name": "python3"
  },
  "language_info": {
   "codemirror_mode": {
    "name": "ipython",
    "version": 3
   },
   "file_extension": ".py",
   "mimetype": "text/x-python",
   "name": "python",
   "nbconvert_exporter": "python",
   "pygments_lexer": "ipython3",
   "version": "3.8.10"
  }
 },
 "nbformat": 4,
 "nbformat_minor": 5
}
