{
 "cells": [
  {
   "cell_type": "code",
   "execution_count": 1,
   "id": "8b25c473-9f98-43a1-946b-8d998deb101d",
   "metadata": {},
   "outputs": [],
   "source": [
    "# import libriaries \n",
    "import pandas as pd\n",
    "import matplotlib.pyplot as plt\n",
    "import seaborn as sns\n",
    "import telegram\n",
    "import pandahouse\n",
    "from datetime import date\n",
    "from statsmodels.stats.power import TTestIndPower\n",
    "from scipy import stats\n",
    "from CH import Getch       # this function we use to read queries from clickhouse\n",
    "from aa_tests import New   # this function we use to do AA tests before A/B tests\n",
    "import numpy as np\n",
    "import io\n",
    "import sys\n",
    "import os\n",
    "\n",
    "%matplotlib inline"
   ]
  },
  {
   "cell_type": "code",
   "execution_count": 2,
   "id": "e6f4def5-37c6-4961-a151-3bb9e439e89b",
   "metadata": {},
   "outputs": [],
   "source": [
    "# query from 08-12-2021 to 14-12-2021 to compare group 2 and 3\n",
    "\n",
    "df = Getch(\n",
    "'''\n",
    "SELECT user_id,\n",
    "       exp_group,\n",
    "       countIf(action='like') as likes,\n",
    "       countIf(action='view') as views,\n",
    "       likes / views as CTR\n",
    "FROM simulator_20211220.feed_actions\n",
    "where toDate(time) >= toDate('2021-12-08') and toDate(time) <= toDate('2021-12-14') \n",
    "      and exp_group in (2, 3)\n",
    "group by user_id, exp_group\n",
    "'''\n",
    ").df"
   ]
  },
  {
   "cell_type": "code",
   "execution_count": 6,
   "id": "80096852-e056-43ff-9321-ec823edc9571",
   "metadata": {},
   "outputs": [],
   "source": [
    "df_group_2 = df[df['exp_group'] == 2]  # create dataframe only with rows from exp_group 2  \n",
    "df_group_3 = df[df['exp_group'] == 3]  # create dataframe only with rows from exp_group 3 "
   ]
  },
  {
   "cell_type": "code",
   "execution_count": 9,
   "id": "66632c68-c443-4367-a280-4675ffe4009a",
   "metadata": {},
   "outputs": [],
   "source": [
    "# Execute AA test for CTR. 500 samples from both groups with resampling \n",
    "p_values_ctr, result_ctr = New(data_1=df_group_2.CTR, data_2=df_group_3.CTR).implementation()"
   ]
  },
  {
   "cell_type": "code",
   "execution_count": 16,
   "id": "a7b6691a-2667-42c3-976d-54422f8ba565",
   "metadata": {},
   "outputs": [
    {
     "name": "stdout",
     "output_type": "stream",
     "text": [
      "p-values <= 0.05 in 5.23%\n",
      "Normal percentage(%) of p-values should be about ~5%\n"
     ]
    },
    {
     "data": {
      "image/png": "[encoded data removed]",
      "text/plain": [
       "<Figure size 360x360 with 1 Axes>"
      ]
     },
     "metadata": {
      "needs_background": "light"
     },
     "output_type": "display_data"
    }
   ],
   "source": [
    "sns.displot(p_values_ctr) # plot the distribution of the ctr\n",
    "print(result_ctr)  # print the amount of the p-values, which are <= 0.05"
   ]
  },
  {
   "cell_type": "code",
   "execution_count": 17,
   "id": "2a9c5609-2c48-4d4e-a4b7-17945cfd2e15",
   "metadata": {},
   "outputs": [
    {
     "name": "stdout",
     "output_type": "stream",
     "text": [
      "p-values <= 0.05 in 4.99%\n",
      "Normal percentage(%) of p-values should be about ~5%\n"
     ]
    },
    {
     "data": {
      "image/png": "[encoded data removed]",
      "text/plain": [
       "<Figure size 360x360 with 1 Axes>"
      ]
     },
     "metadata": {
      "needs_background": "light"
     },
     "output_type": "display_data"
    }
   ],
   "source": [
    "# AA test for likes\n",
    "p_values_likes, result_likes = New(data_1=df_group_2.likes, data_2=df_group_3.likes).implementation()\n",
    "sns.displot(p_values_likes) # plot the distribution of the views\n",
    "print(result_likes) # print the amount of the p-values, which are <= 0.05\n"
   ]
  },
  {
   "cell_type": "code",
   "execution_count": 18,
   "id": "acf50fb0-290e-4bd8-9ba5-affcd33b0f78",
   "metadata": {},
   "outputs": [
    {
     "name": "stdout",
     "output_type": "stream",
     "text": [
      "p-values <= 0.05 in 5.14%\n",
      "Normal percentage(%) of p-values should be about ~5%\n"
     ]
    },
    {
     "data": {
      "image/png": "[encoded data removed]",
      "text/plain": [
       "<Figure size 360x360 with 1 Axes>"
      ]
     },
     "metadata": {
      "needs_background": "light"
     },
     "output_type": "display_data"
    }
   ],
   "source": [
    "# AA test for views\n",
    "p_values_views, result_views = New(data_1=df_group_2.views, data_2=df_group_3.views).implementation()\n",
    "sns.displot(p_values_views)  # plot the distribution of the views\n",
    "print(result_views)  # print the amount of the p-values, which are <= 0.05"
   ]
  },
  {
   "cell_type": "markdown",
   "id": "69d2cfc1-8106-400a-8344-39ab1be6e91a",
   "metadata": {},
   "source": [
    "### Conclusion\n",
    "As you can see on the plots and number of the p-values of all features(likes, views, CTR), \\\n",
    "we can conclude that <b>splitting system works correctly</b>"
   ]
  },
  {
   "cell_type": "code",
   "execution_count": null,
   "id": "d23fa538-e715-4afc-8fa1-51d88b66cddc",
   "metadata": {},
   "outputs": [],
   "source": []
  }
 ],
 "metadata": {
  "kernelspec": {
   "display_name": "Python 3 (ipykernel)",
   "language": "python",
   "name": "python3"
  },
  "language_info": {
   "codemirror_mode": {
    "name": "ipython",
    "version": 3
   },
   "file_extension": ".py",
   "mimetype": "text/x-python",
   "name": "python",
   "nbconvert_exporter": "python",
   "pygments_lexer": "ipython3",
   "version": "3.8.10"
  }
 },
 "nbformat": 4,
 "nbformat_minor": 5
}
